{
 "cells": [
  {
   "cell_type": "markdown",
   "id": "e1553d7e",
   "metadata": {},
   "source": [
    "# Endocytosis tracking - Starter notebook\n",
    "\n",
    "This notebook shows basic usage of the `endocytosis_tracking` package. Put a small sequence of frames in `data/frames/` and run the examples below."
   ]
  },
  {
   "cell_type": "code",
   "execution_count": null,
   "id": "12a484d5",
   "metadata": {},
   "outputs": [],
   "source": [
    "# Example: import and version check\n",
    "import sys\n",
    "import numpy as np\n",
    "from src import data, preprocessing, tracking, utils\n",
    "print('Python', sys.version.split()[0])\n",
    "print('numpy', np.__version__)"
   ]
  },
  {
   "cell_type": "code",
   "execution_count": null,
   "id": "42c1a5bc",
   "metadata": {},
   "outputs": [],
   "source": [
    "# Load a small sequence and run the naive tracker (adjust path to your frames)\n",
    "frames = list(data.load_sequence('data/frames'))[:10]  # change path as needed\n",
    "proc = [preprocessing.normalize_contrast(preprocessing.gaussian_blur(f)) for f in frames]"
   ]
  }
 ],
 "metadata": {
  "language_info": {
   "name": "python"
  }
 },
 "nbformat": 4,
 "nbformat_minor": 5
}
